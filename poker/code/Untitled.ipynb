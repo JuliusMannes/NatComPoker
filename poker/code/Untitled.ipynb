{
 "cells": [
  {
   "cell_type": "code",
   "execution_count": 10,
   "metadata": {},
   "outputs": [
    {
     "name": "stdout",
     "output_type": "stream",
     "text": [
      "[[10.37376094]\n",
      " [10.49300345]\n",
      " [12.40915207]\n",
      " [10.03312074]\n",
      " [12.63921841]\n",
      " [19.71161867]\n",
      " [16.60971072]\n",
      " [16.62466957]\n",
      " [15.41857316]\n",
      " [12.86408431]\n",
      " [13.3075173 ]\n",
      " [12.50650313]\n",
      " [15.01289863]\n",
      " [ 8.97472421]\n",
      " [12.00947736]\n",
      " [ 6.00979234]\n",
      " [15.83880803]\n",
      " [15.58228181]\n",
      " [14.6360393 ]\n",
      " [ 9.18734384]]\n"
     ]
    }
   ],
   "source": [
    "import numpy as np\n",
    "\n",
    "ex3 = np.random.normal(12.5,4,(20,1))\n",
    "print(ex3)\n"
   ]
  },
  {
   "cell_type": "code",
   "execution_count": 11,
   "metadata": {},
   "outputs": [],
   "source": [
    "exx3 = ex3.astype(int)"
   ]
  },
  {
   "cell_type": "code",
   "execution_count": 12,
   "metadata": {},
   "outputs": [
    {
     "name": "stdout",
     "output_type": "stream",
     "text": [
      "[[10]\n",
      " [10]\n",
      " [12]\n",
      " [10]\n",
      " [12]\n",
      " [19]\n",
      " [16]\n",
      " [16]\n",
      " [15]\n",
      " [12]\n",
      " [13]\n",
      " [12]\n",
      " [15]\n",
      " [ 8]\n",
      " [12]\n",
      " [ 6]\n",
      " [15]\n",
      " [15]\n",
      " [14]\n",
      " [ 9]]\n"
     ]
    }
   ],
   "source": [
    "print(exx3)"
   ]
  },
  {
   "cell_type": "code",
   "execution_count": null,
   "metadata": {
    "collapsed": true
   },
   "outputs": [],
   "source": []
  }
 ],
 "metadata": {
  "kernelspec": {
   "display_name": "Python 3",
   "language": "python",
   "name": "python3"
  },
  "language_info": {
   "codemirror_mode": {
    "name": "ipython",
    "version": 3
   },
   "file_extension": ".py",
   "mimetype": "text/x-python",
   "name": "python",
   "nbconvert_exporter": "python",
   "pygments_lexer": "ipython3",
   "version": "3.6.8"
  }
 },
 "nbformat": 4,
 "nbformat_minor": 2
}
